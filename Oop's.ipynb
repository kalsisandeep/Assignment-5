{
 "cells": [
  {
   "cell_type": "code",
   "execution_count": 6,
   "id": "eead5bc8",
   "metadata": {},
   "outputs": [
    {
     "name": "stdout",
     "output_type": "stream",
     "text": [
      "print the value of n (number): 10\n",
      "enter the value of power: 2\n",
      "100\n"
     ]
    }
   ],
   "source": [
    "class sol:\n",
    "    def pow(self, x, n):\n",
    "        if x==0 or x==1 or n==1:\n",
    "            return x\n",
    "    \n",
    "        if x==-1:\n",
    "            if n%2 ==0:\n",
    "                return 1\n",
    "            else:\n",
    "                return -1\n",
    "        if n==0:\n",
    "            return 1\n",
    "        if n<0:\n",
    "            return 1/self.pow(x, -n)\n",
    "        val = self.pow(x, n//2)\n",
    "        if n%2==0:\n",
    "            return val*val\n",
    "        return val*val*x\n",
    "num=int(input(\"print the value of n (number): \"))\n",
    "p=int(input(\"enter the value of power: \"))\n",
    "\n",
    "print(sol().pow(num, p))"
   ]
  },
  {
   "cell_type": "code",
   "execution_count": null,
   "id": "1a989675",
   "metadata": {},
   "outputs": [],
   "source": []
  }
 ],
 "metadata": {
  "kernelspec": {
   "display_name": "Python 3 (ipykernel)",
   "language": "python",
   "name": "python3"
  },
  "language_info": {
   "codemirror_mode": {
    "name": "ipython",
    "version": 3
   },
   "file_extension": ".py",
   "mimetype": "text/x-python",
   "name": "python",
   "nbconvert_exporter": "python",
   "pygments_lexer": "ipython3",
   "version": "3.10.3"
  }
 },
 "nbformat": 4,
 "nbformat_minor": 5
}
